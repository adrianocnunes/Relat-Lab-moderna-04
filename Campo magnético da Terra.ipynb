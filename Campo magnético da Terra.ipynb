{
 "cells": [
  {
   "cell_type": "code",
   "execution_count": 79,
   "id": "51cbaa9a",
   "metadata": {},
   "outputs": [],
   "source": [
    "#bibliotecas\n",
    "import pandas as pd\n",
    "import numpy as np\n",
    "import seaborn as sns\n",
    "import matplotlib.pyplot as plt\n",
    "from sklearn.model_selection import train_test_split\n",
    "from sklearn.linear_model import LinearRegression\n",
    "import scipy as sp\n",
    "\n",
    "%matplotlib inline\n",
    "%config InlineBackend.figure_format='retina'"
   ]
  },
  {
   "cell_type": "code",
   "execution_count": 80,
   "id": "18c77ac4",
   "metadata": {},
   "outputs": [],
   "source": [
    "B = pd.read_csv('B_terra4.csv',index_col=0,decimal=',')"
   ]
  },
  {
   "cell_type": "code",
   "execution_count": 81,
   "id": "39e18a37",
   "metadata": {},
   "outputs": [
    {
     "data": {
      "text/html": [
       "<div>\n",
       "<style scoped>\n",
       "    .dataframe tbody tr th:only-of-type {\n",
       "        vertical-align: middle;\n",
       "    }\n",
       "\n",
       "    .dataframe tbody tr th {\n",
       "        vertical-align: top;\n",
       "    }\n",
       "\n",
       "    .dataframe thead th {\n",
       "        text-align: right;\n",
       "    }\n",
       "</style>\n",
       "<table border=\"1\" class=\"dataframe\">\n",
       "  <thead>\n",
       "    <tr style=\"text-align: right;\">\n",
       "      <th></th>\n",
       "      <th>tan(alpha)</th>\n",
       "      <th>I (A)</th>\n",
       "      <th>IK</th>\n",
       "    </tr>\n",
       "  </thead>\n",
       "  <tbody>\n",
       "    <tr>\n",
       "      <th>NaN</th>\n",
       "      <td>1.27</td>\n",
       "      <td>0.03673</td>\n",
       "      <td>0.025176</td>\n",
       "    </tr>\n",
       "    <tr>\n",
       "      <th>NaN</th>\n",
       "      <td>2.60</td>\n",
       "      <td>0.06710</td>\n",
       "      <td>0.045993</td>\n",
       "    </tr>\n",
       "    <tr>\n",
       "      <th>NaN</th>\n",
       "      <td>3.27</td>\n",
       "      <td>0.10700</td>\n",
       "      <td>0.073341</td>\n",
       "    </tr>\n",
       "    <tr>\n",
       "      <th>NaN</th>\n",
       "      <td>5.39</td>\n",
       "      <td>0.13420</td>\n",
       "      <td>0.091985</td>\n",
       "    </tr>\n",
       "    <tr>\n",
       "      <th>NaN</th>\n",
       "      <td>0.60</td>\n",
       "      <td>0.01610</td>\n",
       "      <td>0.011035</td>\n",
       "    </tr>\n",
       "    <tr>\n",
       "      <th>NaN</th>\n",
       "      <td>0.35</td>\n",
       "      <td>0.00721</td>\n",
       "      <td>0.004942</td>\n",
       "    </tr>\n",
       "    <tr>\n",
       "      <th>NaN</th>\n",
       "      <td>0.88</td>\n",
       "      <td>0.02462</td>\n",
       "      <td>0.016875</td>\n",
       "    </tr>\n",
       "    <tr>\n",
       "      <th>NaN</th>\n",
       "      <td>1.30</td>\n",
       "      <td>0.04058</td>\n",
       "      <td>0.027815</td>\n",
       "    </tr>\n",
       "    <tr>\n",
       "      <th>NaN</th>\n",
       "      <td>1.76</td>\n",
       "      <td>0.05048</td>\n",
       "      <td>0.034601</td>\n",
       "    </tr>\n",
       "    <tr>\n",
       "      <th>NaN</th>\n",
       "      <td>2.82</td>\n",
       "      <td>0.08140</td>\n",
       "      <td>0.055794</td>\n",
       "    </tr>\n",
       "    <tr>\n",
       "      <th>NaN</th>\n",
       "      <td>0.19</td>\n",
       "      <td>0.00356</td>\n",
       "      <td>0.002440</td>\n",
       "    </tr>\n",
       "  </tbody>\n",
       "</table>\n",
       "</div>"
      ],
      "text/plain": [
       "     tan(alpha)    I (A)        IK\n",
       "NaN        1.27  0.03673  0.025176\n",
       "NaN        2.60  0.06710  0.045993\n",
       "NaN        3.27  0.10700  0.073341\n",
       "NaN        5.39  0.13420  0.091985\n",
       "NaN        0.60  0.01610  0.011035\n",
       "NaN        0.35  0.00721  0.004942\n",
       "NaN        0.88  0.02462  0.016875\n",
       "NaN        1.30  0.04058  0.027815\n",
       "NaN        1.76  0.05048  0.034601\n",
       "NaN        2.82  0.08140  0.055794\n",
       "NaN        0.19  0.00356  0.002440"
      ]
     },
     "execution_count": 81,
     "metadata": {},
     "output_type": "execute_result"
    }
   ],
   "source": [
    "B.head(15)"
   ]
  },
  {
   "cell_type": "code",
   "execution_count": 82,
   "id": "05557cb6",
   "metadata": {},
   "outputs": [
    {
     "data": {
      "text/plain": [
       "Index(['tan(alpha)', 'I (A)', 'IK'], dtype='object')"
      ]
     },
     "execution_count": 82,
     "metadata": {},
     "output_type": "execute_result"
    }
   ],
   "source": [
    "B.columns"
   ]
  },
  {
   "cell_type": "code",
   "execution_count": 83,
   "id": "8d115c4d",
   "metadata": {},
   "outputs": [],
   "source": [
    "x = B['tan(alpha)'].to_numpy().reshape(-1, 1)\n",
    "y = B['IK'].to_numpy().reshape(-1, 1)"
   ]
  },
  {
   "cell_type": "code",
   "execution_count": 84,
   "id": "77e9f1b2",
   "metadata": {},
   "outputs": [
    {
     "name": "stdout",
     "output_type": "stream",
     "text": [
      "coeficientes\n",
      "a=[0.0016255]\n",
      "b=[[0.01821425]]\n"
     ]
    }
   ],
   "source": [
    "lm = LinearRegression()\n",
    "lm.fit(x, y)\n",
    "a = lm.intercept_\n",
    "b = lm.coef_\n",
    "print('coeficientes')\n",
    "print('a=' + str(a))\n",
    "print('b=' + str(b))"
   ]
  },
  {
   "cell_type": "code",
   "execution_count": 85,
   "id": "9ac95cda",
   "metadata": {},
   "outputs": [],
   "source": [
    "def f(x):\n",
    "    return b*x + a"
   ]
  },
  {
   "cell_type": "code",
   "execution_count": 86,
   "id": "64b786db",
   "metadata": {},
   "outputs": [
    {
     "data": {
      "text/plain": [
       "[<matplotlib.lines.Line2D at 0x14ab3c760>]"
      ]
     },
     "execution_count": 86,
     "metadata": {},
     "output_type": "execute_result"
    },
    {
     "data": {
      "image/png": "[encoded data removed]",
      "text/plain": [
       "<Figure size 432x288 with 1 Axes>"
      ]
     },
     "metadata": {
      "image/png": {
       "height": 259,
       "width": 385
      }
     },
     "output_type": "display_data"
    }
   ],
   "source": [
    "plt.style.use('seaborn-whitegrid')\n",
    "plt.scatter(x, y, color='red')\n",
    "plt.xlabel('tan(alpha)')\n",
    "plt.ylabel('IK')\n",
    "plt.xlabel(r'tan$(\\alpha)$')\n",
    "plt.plot(x, f(x), color='black')"
   ]
  },
  {
   "cell_type": "code",
   "execution_count": null,
   "id": "d51c022a",
   "metadata": {},
   "outputs": [],
   "source": []
  }
 ],
 "metadata": {
  "kernelspec": {
   "display_name": "Python 3 (ipykernel)",
   "language": "python",
   "name": "python3"
  },
  "language_info": {
   "codemirror_mode": {
    "name": "ipython",
    "version": 3
   },
   "file_extension": ".py",
   "mimetype": "text/x-python",
   "name": "python",
   "nbconvert_exporter": "python",
   "pygments_lexer": "ipython3",
   "version": "3.9.12"
  }
 },
 "nbformat": 4,
 "nbformat_minor": 5
}
